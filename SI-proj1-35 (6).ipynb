{
 "cells": [
  {
   "cell_type": "markdown",
   "id": "bf9c87b1",
   "metadata": {},
   "source": [
    "# Sistemas Inteligentes 2021/2022\n",
    "\n",
    "## Mini-projeto 1: Pacman comilão\n",
    "\n",
    "<img src=\"pacman.png\" alt=\"Drawing\" style=\"width: 100px;\"/>"
   ]
  },
  {
   "cell_type": "markdown",
   "id": "d7b8efca",
   "metadata": {},
   "source": [
    "## Grupo: 35\n",
    "\n",
    "### Elementos do Grupo\n",
    "\n",
    "Número: 55164        Nome: João Lago     \n",
    "Número: 56947        Nome: Lara Marques    \n",
    "Número: 56919        Nome: Maria Elena Munteanu     \n",
    "\n",
    "(Nota: Neste relatório pode adicionar as células de texto e código que achar necessárias.)"
   ]
  },
  {
   "cell_type": "markdown",
   "id": "df10acb0",
   "metadata": {},
   "source": [
    "## Representação dos estados\n",
    "\n",
    "(descreva aqui, textualmente, como decidiu representar os estados em Python; ilustre nas células de código abaixo a representação em Python de um estado à sua escolha)\n",
    "\n",
    "Representámos o estado do pacman por:\n",
    "  - Um tuplo de coordenadas (x,y) com a sua posição\n",
    "  - Um dicionário em que as chaves são os nomes das diferentes pastilhas e os valores são listas de tuplos com as coordenadas de cada pastilha, podendo haver mais do que uma pastilha de cada tipo\n",
    "  - Um inteiro com os pontos do pacman\n",
    "  - Um inteiro com o número de células percorridas\n",
    "  - Um dicionário em que as chaves são os tuplos com as coordenadas das células percorridas pelo pacman e os valores são o número de vezes que o pacman passou por essa célula\n",
    "\n",
    "\n",
    "Igualdade de estados:\n",
    "  - Dados dois estados A e B consideramos A igual a B se a posição no estado A for igual à posição do estado B\n",
    "\n",
    "Comparação de estados:\n",
    "  - Dados dois estados A e B consideramos A maior que B se a quantidade de pontos do estado A for maior que a quantidade de pontos do estado B\n",
    "  - Dados dois estados A e B consideramos A menor que B se a quantidade de pontos do estado A for menor que a quantidade de pontos do estado B"
   ]
  },
  {
   "cell_type": "code",
   "execution_count": 25,
   "id": "26f3315a",
   "metadata": {},
   "outputs": [],
   "source": [
    "# se definiu uma classe para representar os estados, inclua aqui o código Python correspondente\n",
    "\n",
    "class EstadoPacman :\n",
    "\n",
    "    def __init__(self, posicao,pastilhas,pontos,t,caminhoPercorrido):\n",
    "        \"\"\" Construtor da classe EstadoPacman\"\"\"\n",
    "        self.pacman = (posicao,pastilhas,pontos,t,caminhoPercorrido) \n",
    "\n",
    "    def __eq__(self,other):\n",
    "        \"Verifica se os estados são iguais\"\n",
    "        return isinstance(other, EstadoPacman) and self.pacman[0]==other.pacman[0]\n",
    "\n",
    "    def __lt__(self,other):\n",
    "        \"Verifica qual o estado menor\"\n",
    "        return self.pacman[2]<other.pacman[2]\n",
    "\n",
    "    def __gt__(self,other):\n",
    "        \"Verifica qual o estado maior\"\n",
    "        return self.pacman[2]>other.pacman[2]\n",
    "\n",
    "    def __hash__(self):\n",
    "        \"Retorna o hash value\"\n",
    "        hashableObj = (self.pacman[0])\n",
    "        return hash(hashableObj)\n",
    "\n",
    "    def __repr__(self):\n",
    "        \"Devolve a representação do estado\"\n",
    "        return \"<Pacman {} --- Pastilhas {} ---- Pontos {} ------ T {} ----- Caminho {}>\".format(self.pacman[0],self.pacman[1],self.pacman[2],self.pacman[3],self.pacman[4])"
   ]
  },
  {
   "cell_type": "code",
   "execution_count": 26,
   "id": "b1902373",
   "metadata": {},
   "outputs": [
    {
     "name": "stdout",
     "output_type": "stream",
     "text": [
      "<Pacman (1, 1) --- Pastilhas {'N': [(3, 7), (2, 1)], 'D': [(1, 5)], 'C': [(7, 3)]} ---- Pontos 0 ------ T 0 ----- Caminho {(1, 1): 1}>\n"
     ]
    }
   ],
   "source": [
    "# representação de um estado à sua escolha  \n",
    "p1 = EstadoPacman((1,1),{\"N\":[(3,7),(2,1)], \"D\":[(1,5)], \"C\":[(7,3)]},0,0,{(1,1):1})\n",
    "print(str(p1))"
   ]
  },
  {
   "cell_type": "markdown",
   "id": "4ab69211",
   "metadata": {},
   "source": [
    "## Formulação do problema\n",
    "\n",
    "(explique textualmente como decidiu formular em Python o seu problema)\n",
    "\n",
    "O Problema do Pacman Comilão está encapsulado na classe PacmanPastilhas que recebe a posição inicial do pacman, o total de pontos que o pacman precisa de obter para alcançar o objetivo do problema, o conjunto de pastilhas, o conjunto de obstáculos e a dimensão do mundo, sendo assim inicializada com o estado do Pacman que recebe toda a informação mutável do problema (a posição do pacman, o conjunto de pastilhas, os pontos do pacman, o número de células percorridas, as células que passou e quantas vezes passou por elas), e atributos imutáveis do problema (obstáculos, dimensão do quadro e o objetivo) tornam-se propriedades do problema, e tem também um atributo directions que é um dicionário com as possíveis direções do pacman e as mudanças a fazer na posição do pacman.\n",
    "\n",
    "Dentro da classe PacmanPastilhas temos as seguintes funções:\n",
    "\n",
    "  - calculaPontos que calcula os pontos que o pacman deve receber quando come uma pastilha dependendo da pastilha que encontrou\n",
    "  - result que devolve um estado resultante de uma certa ação (de self.actions(state)) no estado dado \n",
    "  - goal_test que verifica se um certo estado satisfaz o objetivo\n",
    "  - actions que calcula as ações que podem ser feitas no estado dado\n",
    "  - path_cost que devolve o custo de um caminho entre state e state2\n",
    "  - display que representa o estado\n",
    "  - display_trace que representa o caminho feito desde o início\n"
   ]
  },
  {
   "cell_type": "code",
   "execution_count": 27,
   "id": "73dac25c",
   "metadata": {},
   "outputs": [],
   "source": [
    "from searchPlus import *\n",
    "from copy import deepcopy\n",
    "import timeit"
   ]
  },
  {
   "cell_type": "code",
   "execution_count": 28,
   "id": "0ba46a50",
   "metadata": {},
   "outputs": [],
   "source": [
    "def exec(p,estado,accoes):\n",
    "    custo = 0\n",
    "    for a in accoes:\n",
    "        seg = p.result(estado,a)\n",
    "        custo = p.path_cost(custo,estado,a,seg)\n",
    "        estado = seg\n",
    "    p.display(estado)\n",
    "    print('Custo:',custo)\n",
    "    print('Goal?',p.goal_test(estado))\n",
    "    return (estado,custo)\n",
    "\n",
    "\n",
    "def line(x, y, dx, dy, length):\n",
    "    \"\"\"Uma linha de células de comprimento 'length' começando em (x, y) na direcção (dx, dy).\"\"\"\n",
    "    return {(x + i * dx, y + i * dy) for i in range(length)}\n",
    "\n",
    "def quadro(x, y, length):\n",
    "    \"\"\"Uma moldura quadrada de células de comprimento 'length' começando no topo esquerdo (x, y).\"\"\"\n",
    "    return line(x,y,0,1,length) | line(x+length-1,y,0,1,length) | line(x,y,1,0,length) | line(x,y+length-1,1,0,length)"
   ]
  },
  {
   "cell_type": "code",
   "execution_count": 29,
   "id": "fbe90082",
   "metadata": {},
   "outputs": [],
   "source": [
    "class PacmanPastilhas(Problem):\n",
    "    \"\"\"Encontrar um caminho numa grelha 2D com obstáculos. Os obstáculos são células (x, y).\"\"\"\n",
    "\n",
    "    def __init__(self, initial=(1,1), goal=10,pastilhas={},obstacles={}, dim=10):\n",
    "        \"\"\"\n",
    "            Construtor da classe PacmanPastilhas\n",
    "        \"\"\"\n",
    "        estadoPacman = EstadoPacman(initial,pastilhas,0,0,{initial:1})\n",
    "        super().__init__(estadoPacman,goal)\n",
    "        self.obstacles=obstacles\n",
    "        self.dim = dim\n",
    "\n",
    "    directions = {\"N\":(0, -1), \"W\":(-1, 0), \"E\":(1,  0),\"S\":(0, +1)}\n",
    "\n",
    "    def calculaPontos(self,dir,t):\n",
    "        \"\"\"\n",
    "        Esta função tem como objetivo calcular os pontos de um dado estado\n",
    "        \"\"\"\n",
    "        if dir == 'N': \n",
    "            return 1\n",
    "        elif dir == 'D':\n",
    "            return max(0,5 - t)\n",
    "        else:\n",
    "            return t\n",
    "               \n",
    "    def result(self, state, action): \n",
    "        \"\"\"\n",
    "            Esta função tem como objetivo gerar um novo estado resultante de aplicar a acção action ao estado state\n",
    "        \"\"\"\n",
    "        (x,y) = state.pacman[0]\n",
    "        (dx,dy) = self.directions[action]\n",
    "        novaPosicao =(x+dx,y+dy)\n",
    "        \n",
    "        novoCaminhoPercorido = deepcopy(state.pacman[4])\n",
    "        novasPastilhas = deepcopy(state.pacman[1])\n",
    "        \n",
    "        novosPontos = state.pacman[2]\n",
    "        novoT = state.pacman[3]+1\n",
    "\n",
    "        if novaPosicao in state.pacman[4]:\n",
    "            novoCaminhoPercorido[novaPosicao] += 1 \n",
    "        else:\n",
    "            novoCaminhoPercorido[novaPosicao] = 1 \n",
    "             \n",
    "        listaPast = list(novasPastilhas.items())\n",
    "        for(letraPast,coordPast) in listaPast:\n",
    "            if novaPosicao in coordPast:\n",
    "                novosPontos += self.calculaPontos(letraPast,novoT)\n",
    "                novasPastilhas[letraPast].remove(novaPosicao)\n",
    "        novoEstado = EstadoPacman(novaPosicao,novasPastilhas,novosPontos,novoT,novoCaminhoPercorido)  \n",
    "        return novoEstado\n",
    "        \n",
    "    \n",
    "    def goal_test(self, state):\n",
    "        \"\"\"\n",
    "           Esta função tem como objetivo avaliar se o estado state cumpre o goal\n",
    "        \"\"\"\n",
    "        if state.pacman[2] >= self.goal:\n",
    "            return True \n",
    "        else:\n",
    "            return False\n",
    "    \n",
    "\n",
    "    def actions(self, state):\n",
    "        \"\"\"\n",
    "            Esta funcao tem como objectivo calcular todas as posições o pacman pode fazer(possiveis) a partir de uma posição presente no estado state\n",
    "        \"\"\"\n",
    "        x, y = state.pacman[0]\n",
    "        result = [act for act in self.directions.keys() if (x+self.directions[act][0],y+self.directions[act][1]) not in self.obstacles]\n",
    "        return result\n",
    "    \n",
    "    def path_cost(self,c,state,action,state2):\n",
    "        \"\"\"\n",
    "           Esta funcao tem como objetivo calcular o path cost para um determinado estado state \n",
    "        \"\"\"\n",
    "        if state2.pacman[0] in state.pacman[4]:\n",
    "            return c+state.pacman[4][state2.pacman[0]]\n",
    "        else: \n",
    "            return c+1\n",
    "    \n",
    "    def display(self, state):\n",
    "        \"\"\"\n",
    "            Esta funcao printa o display do estado do problema\n",
    "        \"\"\"\n",
    "        output=\"\"  \n",
    "        for j in range(self.dim):\n",
    "            for i in range(self.dim):\n",
    "                if state.pacman[0] ==(i,j):\n",
    "                    ch = '@'\n",
    "                elif (i,j) in self.obstacles:\n",
    "                    ch = \"=\"\n",
    "                else:\n",
    "                    ch = \".\"\n",
    "                listaPast = list(state.pacman[1].items())\n",
    "                for elem in range(len(listaPast)):\n",
    "                    if (i,j) in listaPast[elem][1]:\n",
    "                        ch = listaPast[elem][0]    \n",
    "                output += ch + \" \"\n",
    "            output += \"\\n\"\n",
    "        print(output)\n",
    "        \n",
    "        \n",
    "    def display_trace(self,d,plan):\n",
    "        \"\"\"\n",
    "            Esta funcao printa o display do caminho até ao estado final\n",
    "        \"\"\"\n",
    "        path = set()\n",
    "        st = self.initial\n",
    "        pastilhas = {}\n",
    "        for a in plan:\n",
    "            st = self.result(st,a)\n",
    "            path.add(st.pacman[0])\n",
    "            pastilhas = st.pacman[1]\n",
    "        output=\"\"\n",
    "        for j in range(self.dim):\n",
    "            for i in range(self.dim):\n",
    "                if self.initial.pacman[0] ==(i,j):\n",
    "                    ch = '@'\n",
    "                elif self.goal==(i,j):\n",
    "                    ch = \"*\"\n",
    "                elif (i,j) in self.obstacles:\n",
    "                    ch = \"=\"\n",
    "                elif (i,j) in path:\n",
    "                    ch = '+'\n",
    "                else:\n",
    "                    ch = \".\"\n",
    "                listaPast = list(pastilhas.items())\n",
    "                for elem in range(len(listaPast)):\n",
    "                    if (i,j) in listaPast[elem][1]:\n",
    "                        ch = listaPast[elem][0] \n",
    "                output += ch + \" \"\n",
    "            output += \"\\n\"\n",
    "        print(output)\n",
    "    "
   ]
  },
  {
   "cell_type": "markdown",
   "id": "f46b1688",
   "metadata": {},
   "source": [
    "## Criação de estados e do problema\n",
    "\n",
    "(Mostrem que o código está a funcionar, construindo instâncias da classe **PacmanPastilhas**, fazendo display dos estados, verificando o teste do estado final, gerando as ações para alguns estados, executando ações a partir de alguns estados e gerando novos estados e mostrando a evolução dos custos; verificando que os estados não se modificam com as ações (são gerados novos estados) e que a igualdade e a comparação entre estados funciona. Mostrem que a execução de sequências de ações está a funcionar bem.)"
   ]
  },
  {
   "cell_type": "code",
   "execution_count": 30,
   "id": "e6157683",
   "metadata": {},
   "outputs": [],
   "source": [
    "f1 = quadro(0,0,10)\n",
    "l = line(2,2,1,0,6)\n",
    "c = line(2,3,0,1,4)\n",
    "obstaculos = f1|l|c\n",
    "p1 = {\"N\":[(3,7),(2,1)], \"D\":[(4,5)], \"C\":[(7,3)]}\n",
    "p2 = {'N':[(1,2)], 'D':[(5,6), (1,4)], 'C':[(7,4), (5,3)]}"
   ]
  },
  {
   "cell_type": "markdown",
   "id": "45081207",
   "metadata": {},
   "source": [
    "As Instâncias recomendadas para o algoritmo de Profundidade Primeiro em Árvore são: prob2 e prob3, uma vez que o tempo de execução pode ser muito grande.\n",
    "\n",
    "Criámos instâncias com objetivos diferentes e pastilhas diferentes para podermos observar melhor as diferenças entre os algoritmos"
   ]
  },
  {
   "cell_type": "code",
   "execution_count": 31,
   "id": "8e7b0863",
   "metadata": {},
   "outputs": [],
   "source": [
    "#-----------------------------Instâncias PacmanPastilhas-----------------------------#\n",
    "prob1 = PacmanPastilhas((1,1),1,p1,obstaculos,10) \n",
    "prob2 = PacmanPastilhas((1,1),2,p2,obstaculos,10) \n",
    "\n",
    "prob3 = PacmanPastilhas((1,1),3,p2,obstaculos,10)\n",
    "prob4 = PacmanPastilhas((1,1),10,p1,obstaculos,10)"
   ]
  },
  {
   "cell_type": "code",
   "execution_count": 32,
   "id": "1de1c416",
   "metadata": {},
   "outputs": [],
   "source": [
    "def printaEstadoTeste(problem,state,custo=0):\n",
    "    \"\"\"\n",
    "        Esta função printa o display, os pontos, os custos e o teste do estado final de um state\n",
    "    \"\"\"\n",
    "    problem.display(state)\n",
    "    print('Pontos ->',state.pacman[2])\n",
    "    print('Custos ->', custo)\n",
    "    print('É o estado final? ',problem.goal_test(state))"
   ]
  },
  {
   "cell_type": "code",
   "execution_count": 33,
   "id": "0b95b771",
   "metadata": {},
   "outputs": [
    {
     "name": "stdout",
     "output_type": "stream",
     "text": [
      "Exemplo 1\n",
      "Estado 1 -- Objetivo 1\n",
      "= = = = = = = = = = \n",
      "= @ N . . . . . . = \n",
      "= . = = = = = = . = \n",
      "= . = . . . . C . = \n",
      "= . = . . . . . . = \n",
      "= . = . D . . . . = \n",
      "= . = . . . . . . = \n",
      "= . . N . . . . . = \n",
      "= . . . . . . . . = \n",
      "= = = = = = = = = = \n",
      "\n",
      "Pontos -> 0\n",
      "Custos -> 0\n",
      "É o estado final?  False\n",
      "Ações Possíveis -> ['E', 'S']\n",
      " \n",
      "Estado 2 -- Objetivo 3\n",
      "State 1 antes do Result gerar novo estado --  <Pacman (1, 1) --- Pastilhas {'N': [(3, 7), (2, 1)], 'D': [(4, 5)], 'C': [(7, 3)]} ---- Pontos 0 ------ T 0 ----- Caminho {(1, 1): 1}>\n",
      "State 1 (estado Velho) depois da função result --  <Pacman (1, 1) --- Pastilhas {'N': [(3, 7), (2, 1)], 'D': [(4, 5)], 'C': [(7, 3)]} ---- Pontos 0 ------ T 0 ----- Caminho {(1, 1): 1}>\n",
      "State 2 (novo Estado) depois da funçao result --  <Pacman (2, 1) --- Pastilhas {'N': [(3, 7)], 'D': [(4, 5)], 'C': [(7, 3)]} ---- Pontos 1 ------ T 1 ----- Caminho {(1, 1): 1, (2, 1): 1}>\n",
      "= = = = = = = = = = \n",
      "= . @ . . . . . . = \n",
      "= . = = = = = = . = \n",
      "= . = . . . . C . = \n",
      "= . = . . . . . . = \n",
      "= . = . D . . . . = \n",
      "= . = . . . . . . = \n",
      "= . . N . . . . . = \n",
      "= . . . . . . . . = \n",
      "= = = = = = = = = = \n",
      "\n",
      "Pontos -> 1\n",
      "Custos -> 1\n",
      "É o estado final?  True\n",
      "Igualdade de estados\n",
      "O estado velho(state1) é igual ao novo(state2)? -> False\n",
      "Comparação de estados\n",
      "O estado velho(state1) é maior que o estado novo(state2)? -> False\n",
      "O estado velho(state1) é menor que o estado novo(state2)? -> True\n",
      "-------------------------------------------------------------------------------------------\n"
     ]
    }
   ],
   "source": [
    "print('Exemplo 1')\n",
    "print('Estado 1 -- Objetivo 1')\n",
    "state1 = prob1.initial\n",
    "custo = 0\n",
    "printaEstadoTeste(prob1,state1,custo)\n",
    "act1 = prob1.actions(state1)\n",
    "print('Ações Possíveis ->',act1, end='\\n \\n')\n",
    "\n",
    "print('Estado 2 -- Objetivo 3')\n",
    "print('State 1 antes do Result gerar novo estado -- ',str(state1))\n",
    "state2 = prob1.result(state1,act1[0])\n",
    "print('State 1 (estado Velho) depois da função result -- ',str(state1))\n",
    "print('State 2 (novo Estado) depois da funçao result -- ',str(state2))\n",
    "\n",
    "custo += prob1.path_cost(custo,state1,act1[0],state2)\n",
    "printaEstadoTeste(prob1,state2,custo)\n",
    "\n",
    "\n",
    "print('Igualdade de estados')\n",
    "print('O estado velho(state1) é igual ao novo(state2)? ->', state1 == state2)\n",
    "\n",
    "print('Comparação de estados')\n",
    "print('O estado velho(state1) é maior que o estado novo(state2)? ->', state1 > state2)\n",
    "print('O estado velho(state1) é menor que o estado novo(state2)? ->', state1 < state2)\n",
    "\n",
    "print('-------------------------------------------------------------------------------------------')\n"
   ]
  },
  {
   "cell_type": "code",
   "execution_count": 34,
   "id": "6cb2b995",
   "metadata": {},
   "outputs": [
    {
     "name": "stdout",
     "output_type": "stream",
     "text": [
      "Exemplo 2\n",
      "Estado 1 -- Objetivo 1\n",
      "= = = = = = = = = = \n",
      "= @ . . . . . . . = \n",
      "= N = = = = = = . = \n",
      "= . = . . C . . . = \n",
      "= D = . . . . C . = \n",
      "= . = . . . . . . = \n",
      "= . = . . D . . . = \n",
      "= . . . . . . . . = \n",
      "= . . . . . . . . = \n",
      "= = = = = = = = = = \n",
      "\n",
      "Pontos -> 0\n",
      "Custos -> 0\n",
      "É o estado final?  False\n",
      "Estado 2 -- Objetivo 3\n",
      "State 1 antes do exec gerar novo estado --  <Pacman (1, 1) --- Pastilhas {'N': [(1, 2)], 'D': [(5, 6), (1, 4)], 'C': [(7, 4), (5, 3)]} ---- Pontos 0 ------ T 0 ----- Caminho {(1, 1): 1}>\n",
      "= = = = = = = = = = \n",
      "= . . . . . . . . = \n",
      "= N = = = = = = . = \n",
      "= . = . . C . @ . = \n",
      "= D = . . . . C . = \n",
      "= . = . . . . . . = \n",
      "= . = . . D . . . = \n",
      "= . . . . . . . . = \n",
      "= . . . . . . . . = \n",
      "= = = = = = = = = = \n",
      "\n",
      "Custo: 10\n",
      "Goal? False\n",
      "State 1 (estado Velho) depois da função exec --  <Pacman (1, 1) --- Pastilhas {'N': [(1, 2)], 'D': [(5, 6), (1, 4)], 'C': [(7, 4), (5, 3)]} ---- Pontos 0 ------ T 0 ----- Caminho {(1, 1): 1}>\n",
      "State 2 (novo Estado) depois da funçao exec --  <Pacman (7, 3) --- Pastilhas {'N': [(1, 2)], 'D': [(5, 6), (1, 4)], 'C': [(7, 4), (5, 3)]} ---- Pontos 0 ------ T 10 ----- Caminho {(1, 1): 1, (2, 1): 1, (3, 1): 1, (4, 1): 1, (5, 1): 1, (6, 1): 1, (7, 1): 1, (8, 1): 1, (8, 2): 1, (8, 3): 1, (7, 3): 1}>\n",
      "= = = = = = = = = = \n",
      "= . . . . . . . . = \n",
      "= N = = = = = = . = \n",
      "= . = . . C . @ . = \n",
      "= D = . . . . C . = \n",
      "= . = . . . . . . = \n",
      "= . = . . D . . . = \n",
      "= . . . . . . . . = \n",
      "= . . . . . . . . = \n",
      "= = = = = = = = = = \n",
      "\n",
      "Pontos -> 0\n",
      "Custos -> 10\n",
      "É o estado final?  False\n",
      "Igualdade de estados\n",
      "O estado velho(state1) é igual ao novo(state2)? -> False\n",
      "Comparação de estados\n",
      "O estado velho(state1) é maior que o estado novo(state2)? -> False\n",
      "O estado velho(state1) é menor que o estado novo(state2)? -> False\n"
     ]
    }
   ],
   "source": [
    "print('Exemplo 2')\n",
    "print('Estado 1 -- Objetivo 1')\n",
    "state1 = prob2.initial\n",
    "custo = 0\n",
    "printaEstadoTeste(prob2,state1,custo)\n",
    "acoes = ['E','E','E','E','E','E','E','S','S','W']\n",
    "\n",
    "print('Estado 2 -- Objetivo 3')\n",
    "print('State 1 antes do exec gerar novo estado -- ',str(state1))\n",
    "state2 = exec(prob2,state1,acoes)\n",
    "print('State 1 (estado Velho) depois da função exec -- ',str(state1))\n",
    "print('State 2 (novo Estado) depois da funçao exec -- ',str(state2[0]))\n",
    "\n",
    "custo += state2[1]\n",
    "printaEstadoTeste(prob2,state2[0],custo)\n",
    "\n",
    "\n",
    "print('Igualdade de estados')\n",
    "print('O estado velho(state1) é igual ao novo(state2)? ->', state1 == state2[0])\n",
    "\n",
    "print('Comparação de estados')\n",
    "print('O estado velho(state1) é maior que o estado novo(state2)? ->', state1 > state2[0])\n",
    "print('O estado velho(state1) é menor que o estado novo(state2)? ->', state1 < state2[0])"
   ]
  },
  {
   "cell_type": "markdown",
   "id": "14a095c8",
   "metadata": {},
   "source": [
    "## Teste de procura de solução\n",
    "\n",
    "(utilização de algoritmos de procura aprendidos nas aulas e comparação dos resultados ao nível de tempo de execução e solução obtida; comente aqui os resultados obtidos e o que observa)"
   ]
  },
  {
   "cell_type": "code",
   "execution_count": 35,
   "id": "5c90850b",
   "metadata": {},
   "outputs": [],
   "source": [
    "#------------------------------Algoritmos------------------------------#\n",
    "\n",
    "#-----------------------------Profundidade-----------------------------#\n",
    "\n",
    "def depth_first_graph_search(problem): \n",
    "    \"\"\"Search the deepest nodes in the search tree first.\"\"\"\n",
    "    return graph_search(problem, Stack())\n",
    "\n",
    "def depth_first_tree_search(problem): \n",
    "    \"\"\"Search the deepest nodes in the search tree first.\"\"\"\n",
    "    return tree_search(problem, Stack())\n",
    "\n",
    "#--------------------------------Largura--------------------------------#\n",
    "\n",
    "def breadth_first_graph_search(problem):\n",
    "    \"\"\"Search the deepest nodes in the search tree first.\"\"\"\n",
    "    return graph_search(problem, FIFOQueue())\n",
    "\n",
    "def breadth_first_tree_search(problem): \n",
    "    \"\"\"Search the shallowest nodes in the search tree first.\"\"\"\n",
    "    return tree_search(problem, FIFOQueue())\n",
    "\n",
    "#----------------------------Custo Uniforme----------------------------#\n",
    "\n",
    "def uniform_cost_search(problem): \n",
    "    \"\"\"[Figure 3.14]\"\"\"\n",
    "    return best_first_graph_search(problem, lambda node: node.path_cost)\n",
    "\n",
    "#----------------------Aprofundamento Progressivo-----------------------#\n",
    "\n",
    "def iterative_deepening_search(problem):\n",
    "    \"\"\"[Figure 3.18]\"\"\"\n",
    "    for depth in range(sys.maxsize):\n",
    "        result = depth_limited_search(problem, depth)\n",
    "        if result != 'cutoff':\n",
    "            return result "
   ]
  },
  {
   "cell_type": "code",
   "execution_count": 36,
   "id": "ef3e56b3",
   "metadata": {},
   "outputs": [],
   "source": [
    "def mostraProblema(problema,algoritmo,nome):\n",
    "    \"\"\"\n",
    "        Esta função trata de mostrar todo o problema de acordo com o algoritmo dado\n",
    "    \"\"\"\n",
    "    problema.display(problema.initial)\n",
    "    start = timeit.default_timer()\n",
    "    resultado = algoritmo(problema)\n",
    "    if resultado:\n",
    "        print(\"Solução \", nome,\" com custo\", str(resultado.path_cost)+\":\")\n",
    "        print('Objetivo --> ',problema.goal)\n",
    "        print('Pontos --> ',resultado.state.pacman[2])\n",
    "        print('Solução --> ',resultado.solution())\n",
    "        stop = timeit.default_timer()\n",
    "        print('Tempo de Execução --> ', stop - start, end='\\n\\n')\n",
    "        problema.display_trace(10,resultado.solution())\n",
    "    else:\n",
    "        print('Sem Solução')\n"
   ]
  },
  {
   "cell_type": "markdown",
   "id": "2a4bea03",
   "metadata": {},
   "source": [
    "### Problema 1 \n",
    "Algoritmo Profundidade Primeiro em Árvore"
   ]
  },
  {
   "cell_type": "code",
   "execution_count": 37,
   "id": "617fc163",
   "metadata": {},
   "outputs": [
    {
     "name": "stdout",
     "output_type": "stream",
     "text": [
      "= = = = = = = = = = \n",
      "= @ . . . . . . . = \n",
      "= N = = = = = = . = \n",
      "= . = . . C . . . = \n",
      "= D = . . . . C . = \n",
      "= . = . . . . . . = \n",
      "= . = . . D . . . = \n",
      "= . . . . . . . . = \n",
      "= . . . . . . . . = \n",
      "= = = = = = = = = = \n",
      "\n",
      "Solução  Prof-prim (Árvore)  com custo 3:\n",
      "Objetivo -->  2\n",
      "Pontos -->  3\n",
      "Solução -->  ['S', 'S', 'S']\n",
      "Tempo de Execução -->  0.0005666270001256635\n",
      "\n",
      "= = = = = = = = = = \n",
      "= @ . . . . . . . = \n",
      "= + = = = = = = . = \n",
      "= + = . . C . . . = \n",
      "= + = . . . . C . = \n",
      "= . = . . . . . . = \n",
      "= . = . . D . . . = \n",
      "= . . . . . . . . = \n",
      "= . . . . . . . . = \n",
      "= = = = = = = = = = \n",
      "\n"
     ]
    }
   ],
   "source": [
    "mostraProblema(prob2,depth_first_tree_search,'Prof-prim (Árvore)')"
   ]
  },
  {
   "cell_type": "markdown",
   "id": "14091e2a",
   "metadata": {},
   "source": [
    "##### Observações sobre o problema 1 \n",
    "\n",
    "Utilizámos este problema para representar melhor o comportamento do Algoritmo de Profundidade Primeiro em Árvore, uma vez que não o vamos utilizar no problema com o objetivo mais elevado uma vez que este pode ter um tempo de execução maior ou mesmo criar um loop infinito.\n",
    "\n",
    "Neste problema, podemos observar que o tempo de execução do algoritmo é bastante pequeno e como o algoritmo começa a procura mais à esquerda, apesar de poder passar por toda a árvore e entrar em ciclo infinito, neste caso não o faz pois encontra rapidamente a solução com o custo homogéneo. "
   ]
  },
  {
   "cell_type": "markdown",
   "id": "492d3c1a",
   "metadata": {},
   "source": [
    "### Problema 2\n",
    "Algoritmo Profundidade Primeiro em Árvore"
   ]
  },
  {
   "cell_type": "code",
   "execution_count": 38,
   "id": "4d9b099c",
   "metadata": {},
   "outputs": [
    {
     "name": "stdout",
     "output_type": "stream",
     "text": [
      "= = = = = = = = = = \n",
      "= @ . . . . . . . = \n",
      "= N = = = = = = . = \n",
      "= . = . . C . . . = \n",
      "= D = . . . . C . = \n",
      "= . = . . . . . . = \n",
      "= . = . . D . . . = \n",
      "= . . . . . . . . = \n",
      "= . . . . . . . . = \n",
      "= = = = = = = = = = \n",
      "\n",
      "Solução  Prof-prim (Árvore)  com custo 3:\n",
      "Objetivo -->  3\n",
      "Pontos -->  3\n",
      "Solução -->  ['S', 'S', 'S']\n",
      "Tempo de Execução -->  0.0005732539998462016\n",
      "\n",
      "= = = = = = = = = = \n",
      "= @ . . . . . . . = \n",
      "= + = = = = = = . = \n",
      "= + = . . C . . . = \n",
      "= + = . . . . C . = \n",
      "= . = . . . . . . = \n",
      "= . = . . D . . . = \n",
      "= . . . . . . . . = \n",
      "= . . . . . . . . = \n",
      "= = = = = = = = = = \n",
      "\n"
     ]
    }
   ],
   "source": [
    "mostraProblema(prob3,depth_first_tree_search,'Prof-prim (Árvore)')"
   ]
  },
  {
   "cell_type": "markdown",
   "id": "2f06ec7d",
   "metadata": {},
   "source": [
    "Algoritmo Profundidade Primeiro em Grafo"
   ]
  },
  {
   "cell_type": "code",
   "execution_count": 39,
   "id": "06577d27",
   "metadata": {},
   "outputs": [
    {
     "name": "stdout",
     "output_type": "stream",
     "text": [
      "= = = = = = = = = = \n",
      "= @ . . . . . . . = \n",
      "= N = = = = = = . = \n",
      "= . = . . C . . . = \n",
      "= D = . . . . C . = \n",
      "= . = . . . . . . = \n",
      "= . = . . D . . . = \n",
      "= . . . . . . . . = \n",
      "= . . . . . . . . = \n",
      "= = = = = = = = = = \n",
      "\n",
      "Solução  Prof-prim (Grafo)  com custo 3:\n",
      "Objetivo -->  3\n",
      "Pontos -->  3\n",
      "Solução -->  ['S', 'S', 'S']\n",
      "Tempo de Execução -->  0.0007317330000660149\n",
      "\n",
      "= = = = = = = = = = \n",
      "= @ . . . . . . . = \n",
      "= + = = = = = = . = \n",
      "= + = . . C . . . = \n",
      "= + = . . . . C . = \n",
      "= . = . . . . . . = \n",
      "= . = . . D . . . = \n",
      "= . . . . . . . . = \n",
      "= . . . . . . . . = \n",
      "= = = = = = = = = = \n",
      "\n"
     ]
    }
   ],
   "source": [
    "mostraProblema(prob3,depth_first_graph_search,'Prof-prim (Grafo)')"
   ]
  },
  {
   "cell_type": "markdown",
   "id": "e4cc7f6d",
   "metadata": {},
   "source": [
    "Algoritmo Largura Primeiro em Árvore"
   ]
  },
  {
   "cell_type": "code",
   "execution_count": 40,
   "id": "027ae300",
   "metadata": {},
   "outputs": [
    {
     "name": "stdout",
     "output_type": "stream",
     "text": [
      "= = = = = = = = = = \n",
      "= @ . . . . . . . = \n",
      "= N = = = = = = . = \n",
      "= . = . . C . . . = \n",
      "= D = . . . . C . = \n",
      "= . = . . . . . . = \n",
      "= . = . . D . . . = \n",
      "= . . . . . . . . = \n",
      "= . . . . . . . . = \n",
      "= = = = = = = = = = \n",
      "\n",
      "Solução  Largura-prim (Árvore)  com custo 3:\n",
      "Objetivo -->  3\n",
      "Pontos -->  3\n",
      "Solução -->  ['S', 'S', 'S']\n",
      "Tempo de Execução -->  0.001556738000090263\n",
      "\n",
      "= = = = = = = = = = \n",
      "= @ . . . . . . . = \n",
      "= + = = = = = = . = \n",
      "= + = . . C . . . = \n",
      "= + = . . . . C . = \n",
      "= . = . . . . . . = \n",
      "= . = . . D . . . = \n",
      "= . . . . . . . . = \n",
      "= . . . . . . . . = \n",
      "= = = = = = = = = = \n",
      "\n"
     ]
    }
   ],
   "source": [
    "mostraProblema(prob3,breadth_first_tree_search,'Largura-prim (Árvore)')"
   ]
  },
  {
   "cell_type": "markdown",
   "id": "06329aa0",
   "metadata": {},
   "source": [
    "Algoritmo Largura Primeiro em Grafo"
   ]
  },
  {
   "cell_type": "code",
   "execution_count": 41,
   "id": "d7169f56",
   "metadata": {},
   "outputs": [
    {
     "name": "stdout",
     "output_type": "stream",
     "text": [
      "= = = = = = = = = = \n",
      "= @ . . . . . . . = \n",
      "= N = = = = = = . = \n",
      "= . = . . C . . . = \n",
      "= D = . . . . C . = \n",
      "= . = . . . . . . = \n",
      "= . = . . D . . . = \n",
      "= . . . . . . . . = \n",
      "= . . . . . . . . = \n",
      "= = = = = = = = = = \n",
      "\n",
      "Solução  Largura-prim (Grafo)  com custo 3:\n",
      "Objetivo -->  3\n",
      "Pontos -->  3\n",
      "Solução -->  ['S', 'S', 'S']\n",
      "Tempo de Execução -->  0.0012851320000208943\n",
      "\n",
      "= = = = = = = = = = \n",
      "= @ . . . . . . . = \n",
      "= + = = = = = = . = \n",
      "= + = . . C . . . = \n",
      "= + = . . . . C . = \n",
      "= . = . . . . . . = \n",
      "= . = . . D . . . = \n",
      "= . . . . . . . . = \n",
      "= . . . . . . . . = \n",
      "= = = = = = = = = = \n",
      "\n"
     ]
    }
   ],
   "source": [
    "mostraProblema(prob3,breadth_first_graph_search,'Largura-prim (Grafo)')"
   ]
  },
  {
   "cell_type": "markdown",
   "id": "be086e9a",
   "metadata": {},
   "source": [
    "Algoritmo Custo Uniforme em Grafo"
   ]
  },
  {
   "cell_type": "code",
   "execution_count": 42,
   "id": "652e7d7d",
   "metadata": {},
   "outputs": [
    {
     "name": "stdout",
     "output_type": "stream",
     "text": [
      "= = = = = = = = = = \n",
      "= @ . . . . . . . = \n",
      "= N = = = = = = . = \n",
      "= . = . . C . . . = \n",
      "= D = . . . . C . = \n",
      "= . = . . . . . . = \n",
      "= . = . . D . . . = \n",
      "= . . . . . . . . = \n",
      "= . . . . . . . . = \n",
      "= = = = = = = = = = \n",
      "\n",
      "Solução  Custo Uniforme (Grafo)  com custo 3:\n",
      "Objetivo -->  3\n",
      "Pontos -->  3\n",
      "Solução -->  ['S', 'S', 'S']\n",
      "Tempo de Execução -->  0.0014830540001185\n",
      "\n",
      "= = = = = = = = = = \n",
      "= @ . . . . . . . = \n",
      "= + = = = = = = . = \n",
      "= + = . . C . . . = \n",
      "= + = . . . . C . = \n",
      "= . = . . . . . . = \n",
      "= . = . . D . . . = \n",
      "= . . . . . . . . = \n",
      "= . . . . . . . . = \n",
      "= = = = = = = = = = \n",
      "\n"
     ]
    }
   ],
   "source": [
    "mostraProblema(prob3,uniform_cost_search,'Custo Uniforme (Grafo)')"
   ]
  },
  {
   "cell_type": "markdown",
   "id": "c26b7198",
   "metadata": {},
   "source": [
    "Algoritmo Aprofundamento Progressivo"
   ]
  },
  {
   "cell_type": "code",
   "execution_count": 39,
   "id": "b2bd9153",
   "metadata": {},
   "outputs": [
    {
     "name": "stdout",
     "output_type": "stream",
     "text": [
      "= = = = = = = = = = \n",
      "= @ . . . . . . . = \n",
      "= N = = = = = = . = \n",
      "= . = . . C . . . = \n",
      "= D = . . . . C . = \n",
      "= . = . . . . . . = \n",
      "= . = . . D . . . = \n",
      "= . . . . . . . . = \n",
      "= . . . . . . . . = \n",
      "= = = = = = = = = = \n",
      "\n",
      "Solução  Aprofundamento Progressivo  com custo 3:\n",
      "Objetivo -->  3\n",
      "Pontos -->  3\n",
      "Solução -->  ['S', 'S', 'S']\n",
      "Tempo de Execução -->  0.0011802559999978257\n",
      "\n",
      "= = = = = = = = = = \n",
      "= @ . . . . . . . = \n",
      "= + = = = = = = . = \n",
      "= + = . . C . . . = \n",
      "= + = . . . . C . = \n",
      "= . = . . . . . . = \n",
      "= . = . . D . . . = \n",
      "= . . . . . . . . = \n",
      "= . . . . . . . . = \n",
      "= = = = = = = = = = \n",
      "\n"
     ]
    }
   ],
   "source": [
    "mostraProblema(prob3,iterative_deepening_search,'Aprofundamento Progressivo')"
   ]
  },
  {
   "cell_type": "markdown",
   "id": "db48187a",
   "metadata": {},
   "source": [
    "##### Observações sobre o problema 2\n",
    "Neste problema, podemos observar que apesar de todos os algoritmos adotarem métodos diferentes de processar o problema, chegam todos à mesma solução. O tempo de execução varia entre 0.0005s (Profundidade Primeiro em Árvore) e 0.0016s (Largura Primeiro em Árvore). Nenhum dos algoritmos entrou num ciclo infinito. Como todos os algoritmos correm com os custos homogéneos, a solução é optimal.\n",
    "\n",
    "Como o algoritmo Profundidade Primeiro em Árvore expande primeiro os nós que foram visitados mais recentemente, expandindo o ramo mais à esquerda e a solução não está muito profunda, a procura é menos demorada, não sendo necessário processar a árvore toda.\n",
    "\n",
    "O algoritmo Largura Primeiro em Árvore expande primeiro os nós que foram visitados primeiro, ou seja os nós com menor profundidade, como a solução não se encontra nas camadas mais à superfície, este demora mais tempo a chegar ao ramo da solução.\n",
    "\n",
    "Nos algoritmos:\n",
    "   - Profundidade Primeiro em Grafo (0.0007s)\n",
    "   - Aprofundamento Progressivo (0.0012s)\n",
    "   - Largura Primeiro em Grafo (0.0013s)\n",
    "   - Custo Uniforme (0.0015s)\n",
    "\n",
    "No Algoritmo Custo Uniforme o tempo é mais elevado uma vez apesar de um estado não poder ser expandido pela segunda vez, este pode ser revisitado, sendo que a procura depende do custo do caminho."
   ]
  },
  {
   "cell_type": "markdown",
   "id": "9133e89c",
   "metadata": {},
   "source": [
    "### Problema 3\n",
    "Algoritmo Profundidade Primeiro em Árvore"
   ]
  },
  {
   "cell_type": "code",
   "execution_count": 47,
   "id": "87a24725",
   "metadata": {},
   "outputs": [
    {
     "name": "stdout",
     "output_type": "stream",
     "text": [
      "= = = = = = = = = = \n",
      "= @ N . . . . . . = \n",
      "= . = = = = = = . = \n",
      "= . = . . . . C . = \n",
      "= . = . . . . . . = \n",
      "= . = . D . . . . = \n",
      "= . = . . . . . . = \n",
      "= . . N . . . . . = \n",
      "= . . . . . . . . = \n",
      "= = = = = = = = = = \n",
      "\n",
      "Entrou num ciclo infinito! \n"
     ]
    }
   ],
   "source": [
    "try:\n",
    "    mostraProblema(prob4,depth_first_tree_search,'Prof-prim (Árvore)')\n",
    "except KeyboardInterrupt:\n",
    "    print('Entrou num ciclo infinito! ')"
   ]
  },
  {
   "cell_type": "markdown",
   "id": "8051885d",
   "metadata": {},
   "source": [
    "Algoritmo Profundidade Primeiro em Árvore"
   ]
  },
  {
   "cell_type": "code",
   "execution_count": 48,
   "id": "d0075023",
   "metadata": {},
   "outputs": [
    {
     "name": "stdout",
     "output_type": "stream",
     "text": [
      "= = = = = = = = = = \n",
      "= @ N . . . . . . = \n",
      "= . = = = = = = . = \n",
      "= . = . . . . C . = \n",
      "= . = . . . . . . = \n",
      "= . = . D . . . . = \n",
      "= . = . . . . . . = \n",
      "= . . N . . . . . = \n",
      "= . . . . . . . . = \n",
      "= = = = = = = = = = \n",
      "\n",
      "Solução  Prof-prim (Grafo)  com custo 28:\n",
      "Objetivo -->  10\n",
      "Pontos -->  28\n",
      "Solução -->  ['S', 'S', 'S', 'S', 'S', 'S', 'S', 'E', 'E', 'E', 'E', 'E', 'E', 'E', 'N', 'N', 'W', 'W', 'W', 'W', 'W', 'N', 'N', 'E', 'E', 'E', 'E', 'N']\n",
      "Tempo de Execução -->  0.010506539000289195\n",
      "\n",
      "= = = = = = = = = = \n",
      "= @ N . . . . . . = \n",
      "= + = = = = = = . = \n",
      "= + = . . . . + . = \n",
      "= + = + + + + + . = \n",
      "= + = + D . . . . = \n",
      "= + = + + + + + + = \n",
      "= + . N . . . . + = \n",
      "= + + + + + + + + = \n",
      "= = = = = = = = = = \n",
      "\n"
     ]
    }
   ],
   "source": [
    "mostraProblema(prob4,depth_first_graph_search,'Prof-prim (Grafo)')"
   ]
  },
  {
   "cell_type": "markdown",
   "id": "84d6c651",
   "metadata": {},
   "source": [
    "Algoritmo Largura Primeiro em Árvore"
   ]
  },
  {
   "cell_type": "code",
   "execution_count": 49,
   "id": "5c1742d7",
   "metadata": {},
   "outputs": [
    {
     "name": "stdout",
     "output_type": "stream",
     "text": [
      "= = = = = = = = = = \n",
      "= @ N . . . . . . = \n",
      "= . = = = = = = . = \n",
      "= . = . . . . C . = \n",
      "= . = . . . . . . = \n",
      "= . = . D . . . . = \n",
      "= . = . . . . . . = \n",
      "= . . N . . . . . = \n",
      "= . . . . . . . . = \n",
      "= = = = = = = = = = \n",
      "\n",
      "Solução  Largura-prim (Árvore)  com custo 10:\n",
      "Objetivo -->  10\n",
      "Pontos -->  11\n",
      "Solução -->  ['E', 'E', 'E', 'E', 'E', 'E', 'E', 'S', 'S', 'W']\n",
      "Tempo de Execução -->  0.1368181560001176\n",
      "\n",
      "= = = = = = = = = = \n",
      "= @ + + + + + + + = \n",
      "= . = = = = = = + = \n",
      "= . = . . . . + + = \n",
      "= . = . . . . . . = \n",
      "= . = . D . . . . = \n",
      "= . = . . . . . . = \n",
      "= . . N . . . . . = \n",
      "= . . . . . . . . = \n",
      "= = = = = = = = = = \n",
      "\n"
     ]
    }
   ],
   "source": [
    "mostraProblema(prob4,breadth_first_tree_search,'Largura-prim (Árvore)')"
   ]
  },
  {
   "cell_type": "markdown",
   "id": "d4d944db",
   "metadata": {},
   "source": [
    "Algoritmo Largura Primeiro em Grafo"
   ]
  },
  {
   "cell_type": "code",
   "execution_count": 50,
   "id": "c7d3f3ea",
   "metadata": {},
   "outputs": [
    {
     "name": "stdout",
     "output_type": "stream",
     "text": [
      "= = = = = = = = = = \n",
      "= @ N . . . . . . = \n",
      "= . = = = = = = . = \n",
      "= . = . . . . C . = \n",
      "= . = . . . . . . = \n",
      "= . = . D . . . . = \n",
      "= . = . . . . . . = \n",
      "= . . N . . . . . = \n",
      "= . . . . . . . . = \n",
      "= = = = = = = = = = \n",
      "\n",
      "Solução  Largura-prim (Grafo)  com custo 10:\n",
      "Objetivo -->  10\n",
      "Pontos -->  11\n",
      "Solução -->  ['E', 'E', 'E', 'E', 'E', 'E', 'E', 'S', 'S', 'W']\n",
      "Tempo de Execução -->  0.0034288709998691047\n",
      "\n",
      "= = = = = = = = = = \n",
      "= @ + + + + + + + = \n",
      "= . = = = = = = + = \n",
      "= . = . . . . + + = \n",
      "= . = . . . . . . = \n",
      "= . = . D . . . . = \n",
      "= . = . . . . . . = \n",
      "= . . N . . . . . = \n",
      "= . . . . . . . . = \n",
      "= = = = = = = = = = \n",
      "\n"
     ]
    }
   ],
   "source": [
    "mostraProblema(prob4,breadth_first_graph_search,'Largura-prim (Grafo)')"
   ]
  },
  {
   "cell_type": "markdown",
   "id": "41f9df08",
   "metadata": {},
   "source": [
    "Algoritmo Custo Uniforme em Grafo"
   ]
  },
  {
   "cell_type": "code",
   "execution_count": 51,
   "id": "df7949f1",
   "metadata": {},
   "outputs": [
    {
     "name": "stdout",
     "output_type": "stream",
     "text": [
      "= = = = = = = = = = \n",
      "= @ N . . . . . . = \n",
      "= . = = = = = = . = \n",
      "= . = . . . . C . = \n",
      "= . = . . . . . . = \n",
      "= . = . D . . . . = \n",
      "= . = . . . . . . = \n",
      "= . . N . . . . . = \n",
      "= . . . . . . . . = \n",
      "= = = = = = = = = = \n",
      "\n",
      "Solução  Custo Uniforme (Grafo)  com custo 10:\n",
      "Objetivo -->  10\n",
      "Pontos -->  11\n",
      "Solução -->  ['E', 'E', 'E', 'E', 'E', 'E', 'E', 'S', 'S', 'W']\n",
      "Tempo de Execução -->  0.004891725999641494\n",
      "\n",
      "= = = = = = = = = = \n",
      "= @ + + + + + + + = \n",
      "= . = = = = = = + = \n",
      "= . = . . . . + + = \n",
      "= . = . . . . . . = \n",
      "= . = . D . . . . = \n",
      "= . = . . . . . . = \n",
      "= . . N . . . . . = \n",
      "= . . . . . . . . = \n",
      "= = = = = = = = = = \n",
      "\n"
     ]
    }
   ],
   "source": [
    "mostraProblema(prob4,uniform_cost_search,'Custo Uniforme (Grafo)')"
   ]
  },
  {
   "cell_type": "markdown",
   "id": "307678b4",
   "metadata": {},
   "source": [
    "Algoritmo Aprofundamento Progressivo"
   ]
  },
  {
   "cell_type": "code",
   "execution_count": 52,
   "id": "cddc75a5",
   "metadata": {},
   "outputs": [
    {
     "name": "stdout",
     "output_type": "stream",
     "text": [
      "= = = = = = = = = = \n",
      "= @ N . . . . . . = \n",
      "= . = = = = = = . = \n",
      "= . = . . . . C . = \n",
      "= . = . . . . . . = \n",
      "= . = . D . . . . = \n",
      "= . = . . . . . . = \n",
      "= . . N . . . . . = \n",
      "= . . . . . . . . = \n",
      "= = = = = = = = = = \n",
      "\n",
      "Solução  Aprofundamento Progressivo  com custo 10:\n",
      "Objetivo -->  10\n",
      "Pontos -->  11\n",
      "Solução -->  ['E', 'E', 'E', 'E', 'E', 'E', 'E', 'S', 'S', 'W']\n",
      "Tempo de Execução -->  0.11678894499982562\n",
      "\n",
      "= = = = = = = = = = \n",
      "= @ + + + + + + + = \n",
      "= . = = = = = = + = \n",
      "= . = . . . . + + = \n",
      "= . = . . . . . . = \n",
      "= . = . D . . . . = \n",
      "= . = . . . . . . = \n",
      "= . . N . . . . . = \n",
      "= . . . . . . . . = \n",
      "= = = = = = = = = = \n",
      "\n"
     ]
    }
   ],
   "source": [
    "mostraProblema(prob4,iterative_deepening_search,'Aprofundamento Progressivo')"
   ]
  },
  {
   "cell_type": "markdown",
   "id": "fbdbc123",
   "metadata": {},
   "source": [
    "##### Observações sobre o problema 3\n",
    "Neste problema, podemos observar que o único algoritmo que chega a uma solução diferente é Profundidade Primeiro em Grafo e o seu custo é elevado. O tempo de execução varia entre 0.0034s (Largura Primeiro em Grafo) e um ciclo infinito (Profundidade Primeiro em Árvore).\n",
    "\n",
    "No Algoritmo Profundidade Primeiro em Árvore gera um ciclo infinito uma vez que a procura é iniciada nos ramos mais à esquerda, tendo que expandir e revisitar vários nós, como a solução está nas camadas da superfície mas não nos ramos da esquerda, este pode chegar a uma solução.\n",
    "\n",
    "Nos algoritmos:\n",
    "   - Custo Uniforme (0.0048s)\n",
    "   - Profundidade Primeiro em Grafo (0.0105s) - caminho diferente\n",
    "   - Aprofundamento Progressivo (0.1167s)\n",
    "   - Largura Primeiro em Árvore (0.1368s)"
   ]
  }
 ],
 "metadata": {
  "kernelspec": {
   "display_name": "Python 3 (ipykernel)",
   "language": "python",
   "name": "python3"
  },
  "language_info": {
   "codemirror_mode": {
    "name": "ipython",
    "version": 3
   },
   "file_extension": ".py",
   "mimetype": "text/x-python",
   "name": "python",
   "nbconvert_exporter": "python",
   "pygments_lexer": "ipython3",
   "version": "3.9.7"
  }
 },
 "nbformat": 4,
 "nbformat_minor": 5
}
